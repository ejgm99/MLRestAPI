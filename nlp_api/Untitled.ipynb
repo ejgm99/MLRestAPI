{
 "cells": [
  {
   "cell_type": "code",
   "execution_count": 1,
   "metadata": {},
   "outputs": [
    {
     "name": "stdout",
     "output_type": "stream",
     "text": [
      "Importing NER_Spacy: \n",
      "Importing Article parser:\n",
      "C:\\Users\\EJgom\\Documents\\S\\A\\NLP_RestAPI\\nlp_api\\apps\\nlp_core\\DeepMoji\n",
      "importing DeepMoji: \n"
     ]
    }
   ],
   "source": [
    "from apps.logic.getHandler import getPhrases\n",
    "from apps.logic.getHandler import runModel\n",
    "\n",
    "print(\"Importing NER_Spacy: \")\n",
    "from apps.nlp_core.Models.spacy import NER_Spacy\n",
    "\n",
    "print(\"Importing Article parser:\")\n",
    "from apps.nlp_core.SentimentTracker.index import InitialArticleParser\n",
    "\n",
    "print(\"importing DeepMoji: \")\n",
    "from apps.nlp_core.Models.deepmoji import DeepMoji"
   ]
  },
  {
   "cell_type": "code",
   "execution_count": 2,
   "metadata": {},
   "outputs": [],
   "source": [
    "TEST_SENTENCES = [u'I love mom\\'s cooking',\n",
    "                  u'I love how you never reply back..',\n",
    "                  u'I love cruising with my homies',\n",
    "                  u'I love messing with yo mind!!',\n",
    "                  u'I love you and now you\\'re just gone..',\n",
    "                  u'This is shit',\n",
    "                  u'This is the shit',\n",
    "                  u'i am disgusted']\n"
   ]
  },
  {
   "cell_type": "code",
   "execution_count": 7,
   "metadata": {},
   "outputs": [],
   "source": [
    "tennis_opinion = \"The start of a new tennis season prompts an inevitable question: Could this be Roger Federer’s last year on the court. It is a possibility that fills Federer partisans with something approaching existential dread — fear that the un-Federered life might not be worth living, or at least won’t be nearly as pleasurable. Federer is 38, and although he is still at the top of the game — he is currently ranked third — and a threat to win any tournament that he enters, retirement surely can’t be too far off now. But as the 2020 season gets underway, Federer fans have something else to fret about. At some point this year, Rafael Nadal is likely to equal and maybe even surpass Federer’s foremost achievement, a record 20 Grand Slam singles titles. Nadal’s victory at last year’s United States Open was his 19th major title. He will get his first chance to reach 20 at the Australian Open in Melbourne, which starts this week. If not there, and assuming Federer doesn’t win the Australian, Nadal will probably tie the record at the French Open in June. Nadal on clay in Paris remains the surest money in sports — he has captured that Grand Slam a dozen times. Because he is about five years younger than Federer, it seems almost certain now that he will finish his career with more majors, which will arguably give him a stronger claim to being the “greatest (male player) of all time” — the GOAT, to use the popular acronym. That is not how this story was supposed to end. Or maybe we’ve been telling ourselves the wrong story.\"\n",
    "TEST_SENTENCES=tennis_opinion.split(\".\")"
   ]
  },
  {
   "cell_type": "code",
   "execution_count": 8,
   "metadata": {},
   "outputs": [],
   "source": [
    "i = InitialArticleParser()"
   ]
  },
  {
   "cell_type": "code",
   "execution_count": 9,
   "metadata": {},
   "outputs": [
    {
     "name": "stdout",
     "output_type": "stream",
     "text": [
      "-------         IS THE MODEL INITIALIZED:     False\n",
      "input_shape:  (None, 30, 2304)\n",
      "weights:   []\n",
      "updated weights [<tf.Variable 'attlayer/attlayer_W:0' shape=(2304, 1) dtype=float32, numpy=\n",
      "array([[-0.04918931],\n",
      "       [ 0.03457742],\n",
      "       [ 0.01517705],\n",
      "       ...,\n",
      "       [ 0.04466352],\n",
      "       [-0.00563816],\n",
      "       [-0.00692058]], dtype=float32)>]\n",
      "<class 'tensorflow.python.ops.resource_variable_ops.ResourceVariable'>\n",
      "<class 'list'>\n",
      "[33 62 57 12 21]\n",
      "[33 62 57 12 21]\n",
      "[33 62 57 12 21]\n",
      "[33 62 57 12 21]\n",
      "[44 21 22 50 46]\n",
      "[44 21 22 50 46]\n",
      "[44 21 22 50 46]\n",
      "[44 21 22 50 46]\n",
      "[44 21 22 50 46]\n",
      "[44 21 22 50 46]\n",
      "[33 40 57 58 25]\n",
      "[33 40 57 58 25]\n",
      "[33 40 57 58 25]\n",
      "[33 40 57 58 25]\n",
      "[33 40 57 58 25]\n",
      "[33 40 57 58 25]\n",
      "[40 41 33 14 25]\n",
      "[40 41 33 14 25]\n",
      "[40 41 33 14 25]\n",
      "[40 41 33 14 25]\n",
      "[40 33 57 53 50]\n",
      "[40 33 57 53 50]\n",
      "[40 33 57 53 50]\n",
      "[40 33 57 53 50]\n",
      "[57 40 33 17 58]\n",
      "[57 40 33 17 58]\n",
      "[57 40 33 17 58]\n",
      "[62 10 44 53 17]\n",
      "[62 10 44 53 17]\n",
      "[62 10 44 53 17]\n",
      "[62 10 44 53 17]\n",
      "[62 10 44 53 17]\n",
      "[33 50 53 54 41]\n",
      "[33 50 53 54 41]\n",
      "[33 50 53 54 41]\n",
      "[33 50 53 54 41]\n",
      "[33 50 53 54 41]\n",
      "[33 40 53 31 57]\n",
      "[33 40 53 31 57]\n",
      "[33 40 53 31 57]\n",
      "[50 22 33 34 41]\n",
      "[50 22 33 34 41]\n",
      "[50 22 33 34 41]\n",
      "[50 22 33 34 41]\n",
      "[50 22 33 34 41]\n",
      "[50 22 33 34 41]\n",
      "[46 25 19 55 22]\n",
      "[46 25 19 55 22]\n",
      "[11 48 20 22 25]\n",
      "[11 48 20 22 25]\n",
      "[11 48 20 22 25]\n"
     ]
    },
    {
     "data": {
      "text/plain": [
       "'[[{\"name\": \"start\", \"sentences\": [0], \"score\": [\":thumbsup:\", \":grimacing:\", \":muscle:\", \":flushed:\", \":pray:\"]}, {\"name\": \"prompt\", \"sentences\": [0], \"score\": [\":thumbsup:\", \":grimacing:\", \":muscle:\", \":flushed:\", \":pray:\"]}, {\"name\": \"question\", \"sentences\": [0], \"score\": [\":thumbsup:\", \":grimacing:\", \":muscle:\", \":flushed:\", \":pray:\"]}, {\"name\": \"this\", \"sentences\": [0], \"score\": [\":thumbsup:\", \":grimacing:\", \":muscle:\", \":flushed:\", \":pray:\"]}], [{\"name\": \"unregistered pronoun\", \"sentences\": [0], \"score\": [\":smiling_imp:\", \":pray:\", \":confused:\", \":wink:\", \"\\\\ud83d\\\\udc94\"]}, {\"name\": \"that\", \"sentences\": [0], \"score\": [\":smiling_imp:\", \":pray:\", \":confused:\", \":wink:\", \"\\\\ud83d\\\\udc94\"]}, {\"name\": \"partisan\", \"sentences\": [0], \"score\": [\":smiling_imp:\", \":pray:\", \":confused:\", \":wink:\", \"\\\\ud83d\\\\udc94\"]}, {\"name\": \"dread\", \"sentences\": [0], \"score\": [\":smiling_imp:\", \":pray:\", \":confused:\", \":wink:\", \"\\\\ud83d\\\\udc94\"]}, {\"name\": \"fear\", \"sentences\": [0], \"score\": [\":smiling_imp:\", \":pray:\", \":confused:\", \":wink:\", \"\\\\ud83d\\\\udc94\"]}, {\"name\": \"life\", \"sentences\": [0], \"score\": [\":smiling_imp:\", \":pray:\", \":confused:\", \":wink:\", \"\\\\ud83d\\\\udc94\"]}], [{\"name\": \"Federer\", \"sentences\": [0], \"score\": [\":thumbsup:\", \":clap:\", \":muscle:\", \":punch:\", \"\\\\ud83d\\\\ude10\"]}, {\"name\": \"be\", \"sentences\": [0], \"score\": [\":thumbsup:\", \":clap:\", \":muscle:\", \":punch:\", \"\\\\ud83d\\\\ude10\"]}, {\"name\": \"unregistered pronoun\", \"sentences\": [0], \"score\": [\":thumbsup:\", \":clap:\", \":muscle:\", \":punch:\", \"\\\\ud83d\\\\ude10\"]}, {\"name\": \"tournament\", \"sentences\": [0], \"score\": [\":thumbsup:\", \":clap:\", \":muscle:\", \":punch:\", \"\\\\ud83d\\\\ude10\"]}, {\"name\": \"that\", \"sentences\": [0], \"score\": [\":thumbsup:\", \":clap:\", \":muscle:\", \":punch:\", \"\\\\ud83d\\\\ude10\"]}, {\"name\": \"retirement\", \"sentences\": [0], \"score\": [\":thumbsup:\", \":clap:\", \":muscle:\", \":punch:\", \"\\\\ud83d\\\\ude10\"]}], [{\"name\": \"season\", \"sentences\": [0], \"score\": [\":clap:\", \"\\\\ud83d\\\\udc40\", \":thumbsup:\", \":sleeping:\", \"\\\\ud83d\\\\ude10\"]}, {\"name\": \"fan\", \"sentences\": [0], \"score\": [\":clap:\", \"\\\\ud83d\\\\udc40\", \":thumbsup:\", \":sleeping:\", \"\\\\ud83d\\\\ude10\"]}, {\"name\": \"have\", \"sentences\": [0], \"score\": [\":clap:\", \"\\\\ud83d\\\\udc40\", \":thumbsup:\", \":sleeping:\", \"\\\\ud83d\\\\ude10\"]}, {\"name\": \"something\", \"sentences\": [0], \"score\": [\":clap:\", \"\\\\ud83d\\\\udc40\", \":thumbsup:\", \":sleeping:\", \"\\\\ud83d\\\\ude10\"]}], [{\"name\": \"Nadal\", \"sentences\": [0], \"score\": [\":clap:\", \":thumbsup:\", \":muscle:\", \":smile:\", \":wink:\"]}, {\"name\": \"be\", \"sentences\": [0], \"score\": [\":clap:\", \":thumbsup:\", \":muscle:\", \":smile:\", \":wink:\"]}, {\"name\": \"Federer\", \"sentences\": [0], \"score\": [\":clap:\", \":thumbsup:\", \":muscle:\", \":smile:\", \":wink:\"]}, {\"name\": \"Slam\", \"sentences\": [0], \"score\": [\":clap:\", \":thumbsup:\", \":muscle:\", \":smile:\", \":wink:\"]}], [{\"name\": \"Nadal\", \"sentences\": [0], \"score\": [\":muscle:\", \":clap:\", \":thumbsup:\", \":raised_hands:\", \":punch:\"]}, {\"name\": \"Open\", \"sentences\": [0], \"score\": [\":muscle:\", \":clap:\", \":thumbsup:\", \":raised_hands:\", \":punch:\"]}, {\"name\": \"be\", \"sentences\": [0], \"score\": [\":muscle:\", \":clap:\", \":thumbsup:\", \":raised_hands:\", \":punch:\"]}], [{\"name\": \"unregistered pronoun\", \"sentences\": [0], \"score\": [\":grimacing:\", \":grin:\", \":smiling_imp:\", \":smile:\", \":raised_hands:\"]}, {\"name\": \"get\", \"sentences\": [0], \"score\": [\":grimacing:\", \":grin:\", \":smiling_imp:\", \":smile:\", \":raised_hands:\"]}, {\"name\": \"chance\", \"sentences\": [0], \"score\": [\":grimacing:\", \":grin:\", \":smiling_imp:\", \":smile:\", \":raised_hands:\"]}, {\"name\": \"20\", \"sentences\": [0], \"score\": [\":grimacing:\", \":grin:\", \":smiling_imp:\", \":smile:\", \":raised_hands:\"]}, {\"name\": \"which\", \"sentences\": [0], \"score\": [\":grimacing:\", \":grin:\", \":smiling_imp:\", \":smile:\", \":raised_hands:\"]}], [{\"name\": \"not\", \"sentences\": [0], \"score\": [\":thumbsup:\", \":wink:\", \":smile:\", \":stuck_out_tongue_winking_eye:\", \"\\\\ud83d\\\\udc40\"]}, {\"name\": \"Federer\", \"sentences\": [0], \"score\": [\":thumbsup:\", \":wink:\", \":smile:\", \":stuck_out_tongue_winking_eye:\", \"\\\\ud83d\\\\udc40\"]}, {\"name\": \"australian\", \"sentences\": [0], \"score\": [\":thumbsup:\", \":wink:\", \":smile:\", \":stuck_out_tongue_winking_eye:\", \"\\\\ud83d\\\\udc40\"]}, {\"name\": \"Nadal\", \"sentences\": [0], \"score\": [\":thumbsup:\", \":wink:\", \":smile:\", \":stuck_out_tongue_winking_eye:\", \"\\\\ud83d\\\\udc40\"]}, {\"name\": \"record\", \"sentences\": [0], \"score\": [\":thumbsup:\", \":wink:\", \":smile:\", \":stuck_out_tongue_winking_eye:\", \"\\\\ud83d\\\\udc40\"]}], [{\"name\": \"Nadal\", \"sentences\": [0], \"score\": [\":thumbsup:\", \":clap:\", \":smile:\", \"\\\\ud83d\\\\udd76\", \":muscle:\"]}, {\"name\": \"unregistered pronoun\", \"sentences\": [0], \"score\": [\":thumbsup:\", \":clap:\", \":smile:\", \"\\\\ud83d\\\\udd76\", \":muscle:\"]}, {\"name\": \"capture\", \"sentences\": [0], \"score\": [\":thumbsup:\", \":clap:\", \":smile:\", \"\\\\ud83d\\\\udd76\", \":muscle:\"]}], [{\"name\": \"unregistered pronoun\", \"sentences\": [0], \"score\": [\":wink:\", \":confused:\", \":thumbsup:\", \":cry:\", \"\\\\ud83d\\\\udc40\"]}, {\"name\": \"seem\", \"sentences\": [0], \"score\": [\":wink:\", \":confused:\", \":thumbsup:\", \":cry:\", \"\\\\ud83d\\\\udc40\"]}, {\"name\": \"career\", \"sentences\": [0], \"score\": [\":wink:\", \":confused:\", \":thumbsup:\", \":cry:\", \"\\\\ud83d\\\\udc40\"]}, {\"name\": \"which\", \"sentences\": [0], \"score\": [\":wink:\", \":confused:\", \":thumbsup:\", \":cry:\", \"\\\\ud83d\\\\udc40\"]}, {\"name\": \"claim\", \"sentences\": [0], \"score\": [\":wink:\", \":confused:\", \":thumbsup:\", \":cry:\", \"\\\\ud83d\\\\udc40\"]}, {\"name\": \"acronym\", \"sentences\": [0], \"score\": [\":wink:\", \":confused:\", \":thumbsup:\", \":cry:\", \"\\\\ud83d\\\\udc40\"]}], [{\"name\": \"that\", \"sentences\": [0], \"score\": [\"\\\\ud83d\\\\udc94\", \"\\\\ud83d\\\\ude10\", \":expressionless:\", \":angry:\", \":confused:\"]}, {\"name\": \"be\", \"sentences\": [0], \"score\": [\"\\\\ud83d\\\\udc94\", \"\\\\ud83d\\\\ude10\", \":expressionless:\", \":angry:\", \":confused:\"]}], [{\"name\": \"unregistered pronoun\", \"sentences\": [0], \"score\": [\":notes:\", \"\\\\ud83c\\\\udfb5\", \":sweat_smile:\", \":confused:\", \"\\\\ud83d\\\\ude10\"]}, {\"name\": \"tell\", \"sentences\": [0], \"score\": [\":notes:\", \"\\\\ud83c\\\\udfb5\", \":sweat_smile:\", \":confused:\", \"\\\\ud83d\\\\ude10\"]}, {\"name\": \"story\", \"sentences\": [0], \"score\": [\":notes:\", \"\\\\ud83c\\\\udfb5\", \":sweat_smile:\", \":confused:\", \"\\\\ud83d\\\\ude10\"]}], []]'"
      ]
     },
     "execution_count": 9,
     "metadata": {},
     "output_type": "execute_result"
    }
   ],
   "source": [
    "runModel(i,TEST_SENTENCES,test=True)"
   ]
  },
  {
   "cell_type": "code",
   "execution_count": 6,
   "metadata": {},
   "outputs": [
    {
     "name": "stdout",
     "output_type": "stream",
     "text": [
      "-------         IS THE MODEL INITIALIZED:     True\n",
      "[36  4 16 47  8]\n",
      "[36  4 16 47  8]\n",
      "[36  4 16 47  8]\n",
      "[ 1 19 55 32 25]\n",
      "[ 1 19 55 32 25]\n",
      "[ 1 19 55 32 25]\n",
      "[31  6 30 13 44]\n",
      "[31  6 30 13 44]\n",
      "[54 44  9 50 48]\n",
      "[54 44  9 50 48]\n",
      "[46  5 27 35 11]\n",
      "[46  5 27 35 11]\n",
      "[46  5 27 35 11]\n",
      "[37 55 32  1 27]\n",
      "[37 55 32  1 27]\n",
      "[48  6 11 40 31]\n",
      "[48  6 11 40 31]\n",
      "[39 52 43 37 32]\n",
      "[39 52 43 37 32]\n"
     ]
    },
    {
     "data": {
      "text/plain": [
       "'[[{\"name\": \"I\", \"sentences\": [0], \"score\": [\":yum:\", \":heart_eyes:\", \":relaxed:\", \"\\\\ud83d\\\\udc9a\", \":heart:\"]}, {\"name\": \"love\", \"sentences\": [0], \"score\": [\":yum:\", \":heart_eyes:\", \":relaxed:\", \"\\\\ud83d\\\\udc9a\", \":heart:\"]}, {\"name\": \"cooking\", \"sentences\": [0], \"score\": [\":yum:\", \":heart_eyes:\", \":relaxed:\", \"\\\\ud83d\\\\udc9a\", \":heart:\"]}], [{\"name\": \"I\", \"sentences\": [0], \"score\": [\":unamused:\", \":expressionless:\", \":angry:\", \":rage:\", \"\\\\ud83d\\\\ude10\"]}, {\"name\": \"love\", \"sentences\": [0], \"score\": [\":unamused:\", \":expressionless:\", \":angry:\", \":rage:\", \"\\\\ud83d\\\\ude10\"]}, {\"name\": \"unregistered pronoun\", \"sentences\": [0], \"score\": [\":unamused:\", \":expressionless:\", \":angry:\", \":rage:\", \"\\\\ud83d\\\\ude10\"]}], [{\"name\": \"I\", \"sentences\": [0], \"score\": [\"\\\\ud83d\\\\udd76\", \":ok_hand:\", \":v:\", \":100:\", \":smiling_imp:\"]}, {\"name\": \"love\", \"sentences\": [0], \"score\": [\"\\\\ud83d\\\\udd76\", \":ok_hand:\", \":v:\", \":100:\", \":smiling_imp:\"]}], [{\"name\": \"I\", \"sentences\": [0], \"score\": [\":stuck_out_tongue_winking_eye:\", \":smiling_imp:\", \":smirk:\", \":wink:\", \"\\\\ud83c\\\\udfb5\"]}, {\"name\": \"love\", \"sentences\": [0], \"score\": [\":stuck_out_tongue_winking_eye:\", \":smiling_imp:\", \":smirk:\", \":wink:\", \"\\\\ud83c\\\\udfb5\"]}], [{\"name\": \"I\", \"sentences\": [0], \"score\": [\"\\\\ud83d\\\\udc94\", \":pensive:\", \":disappointed:\", \":sleepy:\", \":notes:\"]}, {\"name\": \"love\", \"sentences\": [0], \"score\": [\"\\\\ud83d\\\\udc94\", \":pensive:\", \":disappointed:\", \":sleepy:\", \":notes:\"]}, {\"name\": \"unregistered pronoun\", \"sentences\": [0], \"score\": [\"\\\\ud83d\\\\udc94\", \":pensive:\", \":disappointed:\", \":sleepy:\", \":notes:\"]}], [{\"name\": \"this\", \"sentences\": [0], \"score\": [\":triumph:\", \":angry:\", \":rage:\", \":unamused:\", \":disappointed:\"]}, {\"name\": \"be\", \"sentences\": [0], \"score\": [\":triumph:\", \":angry:\", \":rage:\", \":unamused:\", \":disappointed:\"]}], [{\"name\": \"this\", \"sentences\": [0], \"score\": [\"\\\\ud83c\\\\udfb5\", \":ok_hand:\", \":notes:\", \":clap:\", \"\\\\ud83d\\\\udd76\"]}, {\"name\": \"be\", \"sentences\": [0], \"score\": [\"\\\\ud83c\\\\udfb5\", \":ok_hand:\", \":notes:\", \":clap:\", \"\\\\ud83d\\\\udd76\"]}], [{\"name\": \"i\", \"sentences\": [0], \"score\": [\":mask:\", \":confounded:\", \":persevere:\", \":triumph:\", \":rage:\"]}, {\"name\": \"be\", \"sentences\": [0], \"score\": [\":mask:\", \":confounded:\", \":persevere:\", \":triumph:\", \":rage:\"]}]]'"
      ]
     },
     "execution_count": 6,
     "metadata": {},
     "output_type": "execute_result"
    }
   ],
   "source": [
    "runModel(i,TEST_SENTENCES,test=True)"
   ]
  },
  {
   "cell_type": "code",
   "execution_count": null,
   "metadata": {},
   "outputs": [],
   "source": []
  },
  {
   "cell_type": "code",
   "execution_count": null,
   "metadata": {},
   "outputs": [],
   "source": []
  }
 ],
 "metadata": {
  "kernelspec": {
   "display_name": "Python 3",
   "language": "python",
   "name": "python3"
  },
  "language_info": {
   "codemirror_mode": {
    "name": "ipython",
    "version": 3
   },
   "file_extension": ".py",
   "mimetype": "text/x-python",
   "name": "python",
   "nbconvert_exporter": "python",
   "pygments_lexer": "ipython3",
   "version": "3.8.3"
  }
 },
 "nbformat": 4,
 "nbformat_minor": 4
}
