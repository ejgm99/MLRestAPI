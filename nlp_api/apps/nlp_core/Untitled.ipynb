{
 "cells": [
  {
   "cell_type": "code",
   "execution_count": 5,
   "metadata": {},
   "outputs": [
    {
     "ename": "ModuleNotFoundError",
     "evalue": "No module named 'Models.DeepMoji'",
     "output_type": "error",
     "traceback": [
      "\u001b[1;31m---------------------------------------------------------------------------\u001b[0m",
      "\u001b[1;31mModuleNotFoundError\u001b[0m                       Traceback (most recent call last)",
      "\u001b[1;32m~\\Documents\\S\\A\\NLP_RestAPI\\nlp_api\\apps\\nlp_core\\Models\\deepmoji.py\u001b[0m in \u001b[0;36m<module>\u001b[1;34m\u001b[0m\n\u001b[0;32m      5\u001b[0m \u001b[1;32mtry\u001b[0m\u001b[1;33m:\u001b[0m\u001b[1;33m\u001b[0m\u001b[1;33m\u001b[0m\u001b[0m\n\u001b[1;32m----> 6\u001b[1;33m     \u001b[1;32mfrom\u001b[0m \u001b[0mapps\u001b[0m\u001b[1;33m.\u001b[0m\u001b[0mnlp_core\u001b[0m\u001b[1;33m.\u001b[0m\u001b[0mDeepMoji\u001b[0m\u001b[1;33m.\u001b[0m\u001b[0mdeepmoji\u001b[0m\u001b[1;33m.\u001b[0m\u001b[0msentence_tokenizer\u001b[0m \u001b[1;32mimport\u001b[0m \u001b[0mSentenceTokenizer\u001b[0m\u001b[1;33m\u001b[0m\u001b[1;33m\u001b[0m\u001b[0m\n\u001b[0m\u001b[0;32m      7\u001b[0m     \u001b[1;32mfrom\u001b[0m \u001b[0mapps\u001b[0m\u001b[1;33m.\u001b[0m\u001b[0mnlp_core\u001b[0m\u001b[1;33m.\u001b[0m\u001b[0mDeepMoji\u001b[0m\u001b[1;33m.\u001b[0m\u001b[0mdeepmoji\u001b[0m\u001b[1;33m.\u001b[0m\u001b[0mmodel_def\u001b[0m \u001b[1;32mimport\u001b[0m \u001b[0mdeepmoji_emojis\u001b[0m\u001b[1;33m\u001b[0m\u001b[1;33m\u001b[0m\u001b[0m\n",
      "\u001b[1;31mModuleNotFoundError\u001b[0m: No module named 'apps'",
      "\nDuring handling of the above exception, another exception occurred:\n",
      "\u001b[1;31mModuleNotFoundError\u001b[0m                       Traceback (most recent call last)",
      "\u001b[1;32m<ipython-input-5-7933f0d6ecdf>\u001b[0m in \u001b[0;36m<module>\u001b[1;34m\u001b[0m\n\u001b[1;32m----> 1\u001b[1;33m \u001b[1;32mfrom\u001b[0m \u001b[0mModels\u001b[0m\u001b[1;33m.\u001b[0m\u001b[0mdeepmoji\u001b[0m \u001b[1;32mimport\u001b[0m \u001b[0mDeepMoji\u001b[0m\u001b[1;33m\u001b[0m\u001b[1;33m\u001b[0m\u001b[0m\n\u001b[0m\u001b[0;32m      2\u001b[0m \u001b[1;32mfrom\u001b[0m \u001b[0mSentimentTracker\u001b[0m\u001b[1;33m.\u001b[0m\u001b[0mindex\u001b[0m \u001b[1;32mimport\u001b[0m \u001b[0mArticleParser\u001b[0m\u001b[1;33m\u001b[0m\u001b[1;33m\u001b[0m\u001b[0m\n",
      "\u001b[1;32m~\\Documents\\S\\A\\NLP_RestAPI\\nlp_api\\apps\\nlp_core\\Models\\deepmoji.py\u001b[0m in \u001b[0;36m<module>\u001b[1;34m\u001b[0m\n\u001b[0;32m     10\u001b[0m     \u001b[1;32mimport\u001b[0m \u001b[0mos\u001b[0m\u001b[1;33m\u001b[0m\u001b[1;33m\u001b[0m\u001b[0m\n\u001b[0;32m     11\u001b[0m     \u001b[0mos\u001b[0m\u001b[1;33m.\u001b[0m\u001b[0mchdir\u001b[0m\u001b[1;33m(\u001b[0m\u001b[1;34m'..'\u001b[0m\u001b[1;33m)\u001b[0m\u001b[1;33m\u001b[0m\u001b[1;33m\u001b[0m\u001b[0m\n\u001b[1;32m---> 12\u001b[1;33m     \u001b[1;32mfrom\u001b[0m \u001b[1;33m.\u001b[0m\u001b[0mDeepMoji\u001b[0m\u001b[1;33m.\u001b[0m\u001b[0mdeepmoji\u001b[0m\u001b[1;33m.\u001b[0m\u001b[0msentence_tokenizer\u001b[0m \u001b[1;32mimport\u001b[0m \u001b[0mSentenceTokenizer\u001b[0m\u001b[1;33m\u001b[0m\u001b[1;33m\u001b[0m\u001b[0m\n\u001b[0m\u001b[0;32m     13\u001b[0m     \u001b[1;32mfrom\u001b[0m \u001b[1;33m.\u001b[0m\u001b[0mDeepMoji\u001b[0m\u001b[1;33m.\u001b[0m\u001b[0mdeepmoji\u001b[0m\u001b[1;33m.\u001b[0m\u001b[0mmodel_def\u001b[0m \u001b[1;32mimport\u001b[0m \u001b[0mdeepmoji_emojis\u001b[0m\u001b[1;33m\u001b[0m\u001b[1;33m\u001b[0m\u001b[0m\n\u001b[0;32m     14\u001b[0m     \u001b[1;32mfrom\u001b[0m \u001b[1;33m.\u001b[0m\u001b[0mDeepMoji\u001b[0m\u001b[1;33m.\u001b[0m\u001b[0mdeepmoji\u001b[0m\u001b[1;33m.\u001b[0m\u001b[0mglobal_variables\u001b[0m \u001b[1;32mimport\u001b[0m \u001b[0mPRETRAINED_PATH\u001b[0m\u001b[1;33m,\u001b[0m \u001b[0mVOCAB_PATH\u001b[0m\u001b[1;33m\u001b[0m\u001b[1;33m\u001b[0m\u001b[0m\n",
      "\u001b[1;31mModuleNotFoundError\u001b[0m: No module named 'Models.DeepMoji'"
     ]
    }
   ],
   "source": [
    "from Models.deepmoji import DeepMoji\n",
    "from SentimentTracker.index import ArticleParser"
   ]
  },
  {
   "cell_type": "code",
   "execution_count": null,
   "metadata": {},
   "outputs": [],
   "source": []
  }
 ],
 "metadata": {
  "kernelspec": {
   "display_name": "Python 3",
   "language": "python",
   "name": "python3"
  },
  "language_info": {
   "codemirror_mode": {
    "name": "ipython",
    "version": 3
   },
   "file_extension": ".py",
   "mimetype": "text/x-python",
   "name": "python",
   "nbconvert_exporter": "python",
   "pygments_lexer": "ipython3",
   "version": "3.8.3"
  }
 },
 "nbformat": 4,
 "nbformat_minor": 4
}
