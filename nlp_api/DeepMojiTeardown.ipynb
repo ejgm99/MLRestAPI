{
 "cells": [
  {
   "cell_type": "code",
   "execution_count": 1,
   "metadata": {},
   "outputs": [
    {
     "name": "stdout",
     "output_type": "stream",
     "text": [
      "Importing NER_Spacy: \n",
      "Importing Article parser:\n",
      "C:\\Users\\EJgom\\Documents\\S\\A\\NLP_RestAPI\\nlp_api\\apps\\nlp_core\\DeepMoji\n",
      "importing DeepMoji: \n"
     ]
    }
   ],
   "source": [
    "from apps.logic.getHandler import getPhrases\n",
    "from apps.logic.getHandler import runModel\n",
    "\n",
    "print(\"Importing NER_Spacy: \")\n",
    "from apps.nlp_core.Models.spacy import NER_Spacy\n",
    "\n",
    "print(\"Importing Article parser:\")\n",
    "from apps.nlp_core.SentimentTracker.index import InitialArticleParser\n",
    "\n",
    "print(\"importing DeepMoji: \")\n",
    "from apps.nlp_core.Models.deepmoji import DeepMoji"
   ]
  },
  {
   "cell_type": "code",
   "execution_count": 7,
   "metadata": {},
   "outputs": [],
   "source": [
    "TEST_SENTENCES = [u'I love mom\\'s cooking',\n",
    "                  u'I love how you never reply back..',\n",
    "                  u'I love cruising with my homies',\n",
    "                  u'I love messing with yo mind!!',\n",
    "                  u'I love you and now you\\'re just gone..',\n",
    "                  u'This is shit',\n",
    "                  u'This is the shit',\n",
    "                  u'i am disgusted']\n",
    "tennis_opinion = \"The start of a new tennis season prompts an inevitable question: Could this be Roger Federer’s last year on the court. It is a possibility that fills Federer partisans with something approaching existential dread — fear that the un-Federered life might not be worth living, or at least won’t be nearly as pleasurable. Federer is 38, and although he is still at the top of the game — he is currently ranked third — and a threat to win any tournament that he enters, retirement surely can’t be too far off now. But as the 2020 season gets underway, Federer fans have something else to fret about. At some point this year, Rafael Nadal is likely to equal and maybe even surpass Federer’s foremost achievement, a record 20 Grand Slam singles titles. Nadal’s victory at last year’s United States Open was his 19th major title. He will get his first chance to reach 20 at the Australian Open in Melbourne, which starts this week. If not there, and assuming Federer doesn’t win the Australian, Nadal will probably tie the record at the French Open in June. Nadal on clay in Paris remains the surest money in sports — he has captured that Grand Slam a dozen times. Because he is about five years younger than Federer, it seems almost certain now that he will finish his career with more majors, which will arguably give him a stronger claim to being the “greatest (male player) of all time” — the GOAT, to use the popular acronym. That is not how this story was supposed to end. Or maybe we’ve been telling ourselves the wrong story.\"\n",
    "TENNIS_SENTENCES=tennis_opinion.split(\".\")\n",
    "\n",
    "SENTIMENT = [u'Erick is the best. Erick can learn anything he wants. Erick is sometimes a little forgetful',\n",
    "            u'Erick can learn anything he wants',\n",
    "             u'Erick is sometimes a little forgetful'\n",
    "            ]"
   ]
  },
  {
   "cell_type": "code",
   "execution_count": 11,
   "metadata": {},
   "outputs": [
    {
     "name": "stdout",
     "output_type": "stream",
     "text": [
      "input_shape:  (None, 30, 2304)\n",
      "weights:   []\n",
      "updated weights [<tf.Variable 'attlayer/attlayer_W:0' shape=(2304, 1) dtype=float32, numpy=\n",
      "array([[-0.03540816],\n",
      "       [ 0.03582224],\n",
      "       [ 0.04098945],\n",
      "       ...,\n",
      "       [ 0.01744607],\n",
      "       [-0.00649999],\n",
      "       [-0.03066605]], dtype=float32)>]\n",
      "<class 'tensorflow.python.ops.resource_variable_ops.ResourceVariable'>\n",
      "<class 'list'>\n"
     ]
    }
   ],
   "source": [
    "deepmoji= DeepMoji()\n",
    "deepmoji.initialize()"
   ]
  },
  {
   "cell_type": "code",
   "execution_count": 23,
   "metadata": {
    "scrolled": true
   },
   "outputs": [
    {
     "name": "stdout",
     "output_type": "stream",
     "text": [
      "<tensorflow.python.keras.layers.embeddings.Embedding object at 0x00000258EDDB34F0>\n",
      "(None, 30)\n",
      "(None, 30, 256)\n",
      "<tensorflow.python.keras.regularizers.L1L2 object at 0x00000258EDDB3430>\n",
      "<tensorflow.python.keras.initializers.initializers_v2.RandomUniform object at 0x00000258EDDB3BE0>\n"
     ]
    }
   ],
   "source": [
    "\n",
    "print(deepmoji.model.layers[1])\n",
    "print(deepmoji.model.layers[1].input_shape)\n",
    "print(deepmoji.model.layers[1].output_shape)\n",
    "\n",
    "print(deepmoji.model.layers[1].embeddings_regularizer)\n",
    "\n",
    "print(deepmoji.model.layers[1].embeddings_initializer)"
   ]
  },
  {
   "cell_type": "code",
   "execution_count": 8,
   "metadata": {},
   "outputs": [],
   "source": [
    "i = InitialArticleParser()"
   ]
  },
  {
   "cell_type": "code",
   "execution_count": 10,
   "metadata": {},
   "outputs": [
    {
     "name": "stdout",
     "output_type": "stream",
     "text": [
      "-------         IS THE MODEL INITIALIZED:     True\n",
      "[ 6 20 26 15 25]\n",
      "[20 25 12  6  8]\n",
      "[26  9 15  6 50]\n",
      "[26  9 15  6 50]\n",
      "[26  9 15  6 50]\n",
      "[26  9 15 50 13]\n",
      "[26  9 15 50 13]\n",
      "[26  9 15 50 13]\n",
      "[26  9 15 50 13]\n",
      "[20 25 12 22 62]\n",
      "[20 25 12 22 62]\n"
     ]
    }
   ],
   "source": [
    "j = runModel(i,SENTIMENT,test=True)"
   ]
  },
  {
   "cell_type": "code",
   "execution_count": 14,
   "metadata": {},
   "outputs": [],
   "source": [
    "import spacy\n",
    "nlp = spacy.load('en_core_web_sm')\n",
    "from spacy import displacy"
   ]
  },
  {
   "cell_type": "code",
   "execution_count": 15,
   "metadata": {},
   "outputs": [],
   "source": [
    "doc = nlp(SENTIMENT[0])"
   ]
  },
  {
   "cell_type": "code",
   "execution_count": 40,
   "metadata": {},
   "outputs": [
    {
     "name": "stdout",
     "output_type": "stream",
     "text": [
      "0 Erick is the best.\n",
      "1 Erick can learn anything he wants.\n",
      "2 Erick is sometimes a little forgetful\n"
     ]
    }
   ],
   "source": [
    "for count,sent in enumerate(doc.sents):\n",
    "    print(count,sent)"
   ]
  },
  {
   "cell_type": "code",
   "execution_count": 26,
   "metadata": {},
   "outputs": [
    {
     "data": {
      "text/html": [
       "<span class=\"tex2jax_ignore\"><!DOCTYPE html>\n",
       "<html lang=\"en\">\n",
       "    <head>\n",
       "        <title>displaCy</title>\n",
       "    </head>\n",
       "\n",
       "    <body style=\"font-size: 16px; font-family: -apple-system, BlinkMacSystemFont, 'Segoe UI', Helvetica, Arial, sans-serif, 'Apple Color Emoji', 'Segoe UI Emoji', 'Segoe UI Symbol'; padding: 4rem 2rem; direction: ltr\">\n",
       "<figure style=\"margin-bottom: 6rem\">\n",
       "<div class=\"entities\" style=\"line-height: 2.5; direction: ltr\">\n",
       "<mark class=\"entity\" style=\"background: #aa9cfc; padding: 0.45em 0.6em; margin: 0 0.25em; line-height: 1; border-radius: 0.35em;\">\n",
       "    Erick\n",
       "    <span style=\"font-size: 0.8em; font-weight: bold; line-height: 1; border-radius: 0.35em; text-transform: uppercase; vertical-align: middle; margin-left: 0.5rem\">PERSON</span>\n",
       "</mark>\n",
       " is the best. \n",
       "<mark class=\"entity\" style=\"background: #aa9cfc; padding: 0.45em 0.6em; margin: 0 0.25em; line-height: 1; border-radius: 0.35em;\">\n",
       "    Erick\n",
       "    <span style=\"font-size: 0.8em; font-weight: bold; line-height: 1; border-radius: 0.35em; text-transform: uppercase; vertical-align: middle; margin-left: 0.5rem\">PERSON</span>\n",
       "</mark>\n",
       " can learn anything he wants. \n",
       "<mark class=\"entity\" style=\"background: #aa9cfc; padding: 0.45em 0.6em; margin: 0 0.25em; line-height: 1; border-radius: 0.35em;\">\n",
       "    Erick\n",
       "    <span style=\"font-size: 0.8em; font-weight: bold; line-height: 1; border-radius: 0.35em; text-transform: uppercase; vertical-align: middle; margin-left: 0.5rem\">PERSON</span>\n",
       "</mark>\n",
       " is sometimes a little forgetful</div>\n",
       "</figure>\n",
       "</body>\n",
       "</html></span>"
      ],
      "text/plain": [
       "<IPython.core.display.HTML object>"
      ]
     },
     "metadata": {},
     "output_type": "display_data"
    }
   ],
   "source": []
  },
  {
   "cell_type": "code",
   "execution_count": 28,
   "metadata": {},
   "outputs": [
    {
     "name": "stdout",
     "output_type": "stream",
     "text": [
      "<class 'NoneType'>\n"
     ]
    }
   ],
   "source": []
  },
  {
   "cell_type": "code",
   "execution_count": null,
   "metadata": {},
   "outputs": [],
   "source": []
  }
 ],
 "metadata": {
  "kernelspec": {
   "display_name": "Python 3",
   "language": "python",
   "name": "python3"
  },
  "language_info": {
   "codemirror_mode": {
    "name": "ipython",
    "version": 3
   },
   "file_extension": ".py",
   "mimetype": "text/x-python",
   "name": "python",
   "nbconvert_exporter": "python",
   "pygments_lexer": "ipython3",
   "version": "3.8.3"
  }
 },
 "nbformat": 4,
 "nbformat_minor": 4
}
